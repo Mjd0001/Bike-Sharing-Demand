{
 "cells": [
  {
   "cell_type": "markdown",
   "metadata": {},
   "source": [
    "<div style=\"direction:rtl; text-align:right\">\n",
    "\n",
    "# المشروع الثاني: كم دراجة هوائية سيتم استئجارها خلال الشهر القادم ؟"
   ]
  },
  {
   "cell_type": "markdown",
   "metadata": {},
   "source": [
    "<div style=\"direction:rtl; text-align:right\">\n",
    "أهلاً بكم في المشروع الثاني من علم البيانات. في هذا المشروع، سنكتشف سوية بيانات فريدة من نوعها وهي بيانات استئجار الدراجات الهوائية في مدينة واشنطن دي سي عاصمة الولايات المتحدة الأمريكية. يهدف هذا المشروع إلى التعمق في خطوات تحليل البيانات. الهدف من المشروع هو أولاً فهم البيانات ومن ثم محاولة نمذجة البيانات من خلال توقع كم دراجة هوائية سيتم استئجارها خلال الشهر القادم وذلك باستخدام بيانات السنين السابقة. البيانات موجودة بالكامل في موقع كاقل."
   ]
  },
  {
   "cell_type": "markdown",
   "metadata": {},
   "source": [
    "https://www.kaggle.com/c/bike-sharing-demand/data"
   ]
  },
  {
   "cell_type": "markdown",
   "metadata": {},
   "source": [
    "<div style=\"direction:rtl; text-align:right\">\n",
    "في هذا الدرس، سوف نعمل الآتي: <br>\n",
    "- قراءة البيانات <br>\n",
    "- تنظيف وتنقيح البيانات <br>\n",
    "- استكشاف البيانات <br>\n",
    "- نمذجة البيانات لتوقع عدد مرات الإيجار"
   ]
  },
  {
   "cell_type": "code",
   "execution_count": 43,
   "metadata": {
    "execution": {
     "iopub.execute_input": "2022-08-31T15:32:39.998109Z",
     "iopub.status.busy": "2022-08-31T15:32:39.997153Z",
     "iopub.status.idle": "2022-08-31T15:32:40.198936Z",
     "shell.execute_reply": "2022-08-31T15:32:40.197721Z",
     "shell.execute_reply.started": "2022-08-31T15:32:39.998053Z"
    }
   },
   "outputs": [],
   "source": [
    "import numpy as np\n",
    "import pandas as pd\n",
    "import matplotlib.pyplot as plt\n",
    "import seaborn as sns\n",
    "%matplotlib inline"
   ]
  },
  {
   "cell_type": "markdown",
   "metadata": {},
   "source": [
    "<div style=\"direction:rtl; text-align:right\">\n",
    "\n",
    "# قراءة البيانات"
   ]
  },
  {
   "cell_type": "code",
   "execution_count": 11,
   "metadata": {
    "execution": {
     "iopub.execute_input": "2022-08-31T14:52:54.574509Z",
     "iopub.status.busy": "2022-08-31T14:52:54.574001Z",
     "iopub.status.idle": "2022-08-31T14:52:54.607135Z",
     "shell.execute_reply": "2022-08-31T14:52:54.605430Z",
     "shell.execute_reply.started": "2022-08-31T14:52:54.574469Z"
    }
   },
   "outputs": [],
   "source": [
    "data = pd.read_csv('/kaggle/input/bike-sharing-demand/train.csv')"
   ]
  },
  {
   "cell_type": "code",
   "execution_count": 13,
   "metadata": {
    "execution": {
     "iopub.execute_input": "2022-08-31T14:55:09.872601Z",
     "iopub.status.busy": "2022-08-31T14:55:09.872206Z",
     "iopub.status.idle": "2022-08-31T14:55:09.891481Z",
     "shell.execute_reply": "2022-08-31T14:55:09.890259Z",
     "shell.execute_reply.started": "2022-08-31T14:55:09.872571Z"
    }
   },
   "outputs": [],
   "source": [
    "#لطباعة رأس الجدول نقوم باستخدام الأمر head\n",
    "data.head()"
   ]
  },
  {
   "cell_type": "markdown",
   "metadata": {},
   "source": [
    "<div style=\"direction:rtl; text-align:right\">\n",
    "في البداية، لنكتشف الصورة العامة لهذه البيانات. كم عدد الصفوف وكم عدد الأعمدة ؟ قم بكتابة الأوامر التي تؤدي هذه المهمة.."
   ]
  },
  {
   "cell_type": "code",
   "execution_count": 14,
   "metadata": {
    "execution": {
     "iopub.execute_input": "2022-08-31T14:55:43.229794Z",
     "iopub.status.busy": "2022-08-31T14:55:43.229299Z",
     "iopub.status.idle": "2022-08-31T14:55:43.236571Z",
     "shell.execute_reply": "2022-08-31T14:55:43.235144Z",
     "shell.execute_reply.started": "2022-08-31T14:55:43.229760Z"
    }
   },
   "outputs": [],
   "source": [
    "nrows = data.shape[0]\n",
    "ncols = data.shape[1]"
   ]
  },
  {
   "cell_type": "markdown",
   "metadata": {},
   "source": [
    "<div style=\"direction:rtl; text-align:right\">\n",
    "تمثل الصفوف قراءة البيانات لكل ساعة تقريباً خلال عامي 2011 و 2012. مع كل قراءة نجد العديد من البيانات الإضافية مثل: الموسم (season)، إجازة أم لا (holiday)، يوم عمل أم لا ؟ (workingday)، الطقس (weather)، درجة الحرارة (temp)، درجة الحرارة المحسوسة (atemp)، سرعة الرياح (windspeed)، عدد مرات الايجار من غير المسجلين (casual)، عدد مرات الايجار من المسجلين (registered)، مجموع مرات الإيجار (count)."
   ]
  },
  {
   "cell_type": "markdown",
   "metadata": {},
   "source": [
    "<div style=\"direction:rtl; text-align:right\">\n",
    "سنقوم أولا بإلقاء نظرة على \"أنواع\" البيانات وما إن كان لدينا أي بيانات مفقودة أم لا.."
   ]
  },
  {
   "cell_type": "code",
   "execution_count": 15,
   "metadata": {
    "execution": {
     "iopub.execute_input": "2022-08-31T14:55:48.248891Z",
     "iopub.status.busy": "2022-08-31T14:55:48.247586Z",
     "iopub.status.idle": "2022-08-31T14:55:48.283170Z",
     "shell.execute_reply": "2022-08-31T14:55:48.281702Z",
     "shell.execute_reply.started": "2022-08-31T14:55:48.248835Z"
    },
    "scrolled": true
   },
   "outputs": [],
   "source": [
    "data.info()"
   ]
  },
  {
   "cell_type": "markdown",
   "metadata": {},
   "source": [
    "<div style=\"direction:rtl; text-align:right\">\n",
    "هنا سنقوم بإخبار باندا بأن عمود datetime هو عبارة عن متغير من نوع تاريخ/وقت حتى نقوم بتنفيذ بعض العمليات لاحقاً"
   ]
  },
  {
   "cell_type": "code",
   "execution_count": 16,
   "metadata": {
    "execution": {
     "iopub.execute_input": "2022-08-31T14:55:53.620656Z",
     "iopub.status.busy": "2022-08-31T14:55:53.620257Z",
     "iopub.status.idle": "2022-08-31T14:55:53.634953Z",
     "shell.execute_reply": "2022-08-31T14:55:53.633748Z",
     "shell.execute_reply.started": "2022-08-31T14:55:53.620624Z"
    }
   },
   "outputs": [],
   "source": [
    "data['datetime'] = pd.to_datetime(data['datetime'])"
   ]
  },
  {
   "cell_type": "code",
   "execution_count": 17,
   "metadata": {
    "execution": {
     "iopub.execute_input": "2022-08-31T14:55:55.528450Z",
     "iopub.status.busy": "2022-08-31T14:55:55.527167Z",
     "iopub.status.idle": "2022-08-31T14:55:55.543953Z",
     "shell.execute_reply": "2022-08-31T14:55:55.542282Z",
     "shell.execute_reply.started": "2022-08-31T14:55:55.528406Z"
    }
   },
   "outputs": [],
   "source": [
    "data.info()"
   ]
  },
  {
   "cell_type": "markdown",
   "metadata": {},
   "source": [
    "<div style=\"direction:rtl; text-align:right\">\n",
    "لنطبع مجموع مرات الإيجار خلال أول عشرة أيام:"
   ]
  },
  {
   "cell_type": "code",
   "execution_count": 18,
   "metadata": {
    "execution": {
     "iopub.execute_input": "2022-08-31T14:56:06.332812Z",
     "iopub.status.busy": "2022-08-31T14:56:06.332313Z",
     "iopub.status.idle": "2022-08-31T14:56:06.682813Z",
     "shell.execute_reply": "2022-08-31T14:56:06.681164Z",
     "shell.execute_reply.started": "2022-08-31T14:56:06.332770Z"
    }
   },
   "outputs": [],
   "source": [
    "data[:24*10].plot(x='datetime', y='count') # 24 hours * 10 days"
   ]
  },
  {
   "cell_type": "markdown",
   "metadata": {},
   "source": [
    "<div style=\"direction:rtl; text-align:right\">\n",
    "\n",
    "# تجهيز البيانات"
   ]
  },
  {
   "cell_type": "markdown",
   "metadata": {},
   "source": [
    "<div style=\"direction:rtl; text-align:right\">\n",
    "الخطوة الأولى في تنظيف البيانات هي في تحويل البيانات الفئوية (مثل season, holiday, weather) إلى أعمدة مستقلة. نهتم كثيراً بهذه الخطوة خصوصاً في حالة النمذجة. سنستخدم الأمر get_dummies لأداء هذه المهمة."
   ]
  },
  {
   "cell_type": "code",
   "execution_count": 19,
   "metadata": {
    "execution": {
     "iopub.execute_input": "2022-08-31T14:56:12.722981Z",
     "iopub.status.busy": "2022-08-31T14:56:12.722572Z",
     "iopub.status.idle": "2022-08-31T14:56:12.739395Z",
     "shell.execute_reply": "2022-08-31T14:56:12.738205Z",
     "shell.execute_reply.started": "2022-08-31T14:56:12.722948Z"
    }
   },
   "outputs": [],
   "source": [
    "season_dummies = pd.get_dummies(data['season'], prefix='season', drop_first=False)\n",
    "data = pd.concat([data, season_dummies], axis=1) # axis =1 means add new columns\n",
    "weather_dummies = pd.get_dummies(data['weather'], prefix='weather', drop_first=False)\n",
    "data = pd.concat([data, weather_dummies], axis=1) # axis =1 means add new columns"
   ]
  },
  {
   "cell_type": "code",
   "execution_count": 20,
   "metadata": {
    "execution": {
     "iopub.execute_input": "2022-08-31T14:56:15.733755Z",
     "iopub.status.busy": "2022-08-31T14:56:15.732949Z",
     "iopub.status.idle": "2022-08-31T14:56:15.747474Z",
     "shell.execute_reply": "2022-08-31T14:56:15.745908Z",
     "shell.execute_reply.started": "2022-08-31T14:56:15.733702Z"
    }
   },
   "outputs": [],
   "source": [
    "############################\n",
    "# عليك تعديل هذه الخانة قبل تسليم المشروع\n",
    "# YOU HAVE TO EDIT THIS CELLL\n",
    "############################\n",
    "\n",
    "cols_to_drop = ['weather','season', 'casual', 'registered']\n",
    "data.drop(columns = cols_to_drop, inplace = True)"
   ]
  },
  {
   "cell_type": "markdown",
   "metadata": {},
   "source": [
    "<div style=\"direction:rtl; text-align:right\">\n",
    "الخطوة الثانية في تجهيز البيانات هي في تسوية البيانات (data scaling). وهذه الخطوة تهدف لتوحيد تباين البيانات. لاحظ أننا نقوم أولاً بحفظ المتوسط والانحراف المعياري، لكي نقوم باستخدامها لاحقاً لتسوية البيانات الجديدة."
   ]
  },
  {
   "cell_type": "code",
   "execution_count": 21,
   "metadata": {
    "execution": {
     "iopub.execute_input": "2022-08-31T14:56:18.179970Z",
     "iopub.status.busy": "2022-08-31T14:56:18.179503Z",
     "iopub.status.idle": "2022-08-31T14:56:18.192943Z",
     "shell.execute_reply": "2022-08-31T14:56:18.191833Z",
     "shell.execute_reply.started": "2022-08-31T14:56:18.179933Z"
    }
   },
   "outputs": [],
   "source": [
    "quant_features = ['temp', 'humidity', 'windspeed'] # those are all numerical columns..\n",
    "scaled_features = {}\n",
    "for each in quant_features:\n",
    "    mean, std = data[each].mean(), data[each].std()\n",
    "    scaled_features[each] = [mean, std]\n",
    "    data.loc[:, each] = (data[each] - mean)/std"
   ]
  },
  {
   "cell_type": "markdown",
   "metadata": {},
   "source": [
    "<div style=\"direction:rtl; text-align:right\">\n",
    "حتى نتعرف على تأثير تسوية البيانات، سنقوم الآن بحساب المتوسط الحسابي والانحراف المعياري للأعمدة السابقة. ماذا تستنتج؟"
   ]
  },
  {
   "cell_type": "code",
   "execution_count": 22,
   "metadata": {
    "execution": {
     "iopub.execute_input": "2022-08-31T14:56:21.158314Z",
     "iopub.status.busy": "2022-08-31T14:56:21.157876Z",
     "iopub.status.idle": "2022-08-31T14:56:21.170390Z",
     "shell.execute_reply": "2022-08-31T14:56:21.169001Z",
     "shell.execute_reply.started": "2022-08-31T14:56:21.158280Z"
    }
   },
   "outputs": [],
   "source": [
    "############################\n",
    "# عليك تعديل هذه الخانة قبل تسليم المشروع\n",
    "# YOU HAVE TO EDIT THIS CELLL\n",
    "############################\n",
    "for col in quant_features:\n",
    "    mean = data[col].mean()\n",
    "    std  = data[col].std()\n",
    "    print('mean of {} is {} and the standard deviation is {}'.format(col, mean, std))"
   ]
  },
  {
   "cell_type": "code",
   "execution_count": 23,
   "metadata": {
    "execution": {
     "iopub.execute_input": "2022-08-31T14:56:25.508285Z",
     "iopub.status.busy": "2022-08-31T14:56:25.507426Z",
     "iopub.status.idle": "2022-08-31T14:56:25.530304Z",
     "shell.execute_reply": "2022-08-31T14:56:25.528814Z",
     "shell.execute_reply.started": "2022-08-31T14:56:25.508233Z"
    }
   },
   "outputs": [],
   "source": [
    "data.head()"
   ]
  },
  {
   "cell_type": "markdown",
   "metadata": {},
   "source": [
    "<div style=\"direction:rtl; text-align:right\">\n",
    "أخيرا، الخطوة الثالثة هي في استخراج البيانات التاريخية مثل الساعة واليوم والشهر والسنة. كل هذا ممكن باستخدام أوامر مكتبة الباندا."
   ]
  },
  {
   "cell_type": "code",
   "execution_count": 24,
   "metadata": {
    "execution": {
     "iopub.execute_input": "2022-08-31T14:56:29.074427Z",
     "iopub.status.busy": "2022-08-31T14:56:29.073851Z",
     "iopub.status.idle": "2022-08-31T14:56:29.092571Z",
     "shell.execute_reply": "2022-08-31T14:56:29.091300Z",
     "shell.execute_reply.started": "2022-08-31T14:56:29.074380Z"
    }
   },
   "outputs": [],
   "source": [
    "data['hour'] = data['datetime'].dt.hour\n",
    "data['day'] = data['datetime'].dt.day\n",
    "data['month'] = data['datetime'].dt.month"
   ]
  },
  {
   "cell_type": "markdown",
   "metadata": {},
   "source": [
    "<div style=\"direction:rtl; text-align:right\">\n",
    "ثم نقوم بحذف العمود الأصلي للوقت والتاريخ بعد استخراج المعلومات المفيدة منه."
   ]
  },
  {
   "cell_type": "code",
   "execution_count": 25,
   "metadata": {
    "execution": {
     "iopub.execute_input": "2022-08-31T14:56:31.563591Z",
     "iopub.status.busy": "2022-08-31T14:56:31.563183Z",
     "iopub.status.idle": "2022-08-31T14:56:31.572841Z",
     "shell.execute_reply": "2022-08-31T14:56:31.571038Z",
     "shell.execute_reply.started": "2022-08-31T14:56:31.563560Z"
    }
   },
   "outputs": [],
   "source": [
    "############################\n",
    "# عليك تعديل هذه الخانة قبل تسليم المشروع\n",
    "# YOU HAVE TO EDIT THIS CELLL\n",
    "############################\n",
    "\n",
    "col_to_delete = ['datetime']\n",
    "data.drop(columns ='datetime',inplace = True )"
   ]
  },
  {
   "cell_type": "code",
   "execution_count": 26,
   "metadata": {
    "execution": {
     "iopub.execute_input": "2022-08-31T14:56:35.422752Z",
     "iopub.status.busy": "2022-08-31T14:56:35.422307Z",
     "iopub.status.idle": "2022-08-31T14:56:35.444786Z",
     "shell.execute_reply": "2022-08-31T14:56:35.443514Z",
     "shell.execute_reply.started": "2022-08-31T14:56:35.422716Z"
    }
   },
   "outputs": [],
   "source": [
    "data.head()"
   ]
  },
  {
   "cell_type": "markdown",
   "metadata": {},
   "source": [
    "<div style=\"direction:rtl; text-align:right\">\n",
    "سنقوم الآن بإعداد رسوم بيانية بسيطة لمتوسط عدد مرات الإيجار بالساعة وبالشهر. لإعداد هذه الرسوم، سنقوم أولاً بتلخيص البيانات باستخدام groupby ومن ثم رسم البيانات باستخدام plot:"
   ]
  },
  {
   "cell_type": "code",
   "execution_count": 27,
   "metadata": {
    "execution": {
     "iopub.execute_input": "2022-08-31T14:56:38.889924Z",
     "iopub.status.busy": "2022-08-31T14:56:38.889014Z",
     "iopub.status.idle": "2022-08-31T14:56:38.900322Z",
     "shell.execute_reply": "2022-08-31T14:56:38.899157Z",
     "shell.execute_reply.started": "2022-08-31T14:56:38.889872Z"
    }
   },
   "outputs": [],
   "source": [
    "count_per_hour = data.groupby('hour')['count'].mean()"
   ]
  },
  {
   "cell_type": "code",
   "execution_count": 28,
   "metadata": {
    "execution": {
     "iopub.execute_input": "2022-08-31T14:56:40.963643Z",
     "iopub.status.busy": "2022-08-31T14:56:40.963238Z",
     "iopub.status.idle": "2022-08-31T14:56:40.971436Z",
     "shell.execute_reply": "2022-08-31T14:56:40.970579Z",
     "shell.execute_reply.started": "2022-08-31T14:56:40.963610Z"
    }
   },
   "outputs": [],
   "source": [
    "count_per_hour.head()"
   ]
  },
  {
   "cell_type": "code",
   "execution_count": 29,
   "metadata": {
    "execution": {
     "iopub.execute_input": "2022-08-31T14:56:43.421734Z",
     "iopub.status.busy": "2022-08-31T14:56:43.420749Z",
     "iopub.status.idle": "2022-08-31T14:56:43.764453Z",
     "shell.execute_reply": "2022-08-31T14:56:43.763241Z",
     "shell.execute_reply.started": "2022-08-31T14:56:43.421690Z"
    }
   },
   "outputs": [],
   "source": [
    "count_per_hour.plot(kind = 'bar')\n",
    "\n",
    "#or..\n",
    "#count_per_hour.plot.bar()"
   ]
  },
  {
   "cell_type": "markdown",
   "metadata": {},
   "source": [
    "<div style=\"direction:rtl; text-align:right\">\n",
    "سنقوم الآن برسم مرات الإيجار حسب الشهر (month)."
   ]
  },
  {
   "cell_type": "code",
   "execution_count": 30,
   "metadata": {
    "execution": {
     "iopub.execute_input": "2022-08-31T14:56:49.006027Z",
     "iopub.status.busy": "2022-08-31T14:56:49.005605Z",
     "iopub.status.idle": "2022-08-31T14:56:49.259735Z",
     "shell.execute_reply": "2022-08-31T14:56:49.258410Z",
     "shell.execute_reply.started": "2022-08-31T14:56:49.005994Z"
    }
   },
   "outputs": [],
   "source": [
    "############################\n",
    "# عليك تعديل هذه الخانة قبل تسليم المشروع\n",
    "# YOU HAVE TO EDIT THIS CELLL\n",
    "############################\n",
    "count_per_month = data.groupby('month')['count'].sum()\n",
    "count_per_month.plot(kind = 'bar')"
   ]
  },
  {
   "cell_type": "markdown",
   "metadata": {},
   "source": [
    "<div style=\"direction:rtl; text-align:right\">\n",
    "\n",
    "# نمذجة البيانات"
   ]
  },
  {
   "cell_type": "markdown",
   "metadata": {},
   "source": [
    "<div style=\"direction:rtl; text-align:right\">\n",
    "سنقوم الآن بأول محاولة لنمذجة البيانات باستخدام ما يعرف بالانحدار الخطي (Linear Regression). ولكن قبل ذلك، سنقوم بتقسيم البيانات إلى بيانات للتدريب وبيانات للاختبار ومن ثم نمذجة البيانات واستخدام النموذج لتوقع مقدار الطلب على استئجار الدرجات الهوائية في بيانات جديدة ومن ثم تسليم التوقعات إلى موقع كاقل."
   ]
  },
  {
   "cell_type": "code",
   "execution_count": 31,
   "metadata": {
    "execution": {
     "iopub.execute_input": "2022-08-31T14:56:53.363890Z",
     "iopub.status.busy": "2022-08-31T14:56:53.363093Z",
     "iopub.status.idle": "2022-08-31T14:56:54.168038Z",
     "shell.execute_reply": "2022-08-31T14:56:54.166729Z",
     "shell.execute_reply.started": "2022-08-31T14:56:53.363844Z"
    },
    "scrolled": true
   },
   "outputs": [],
   "source": [
    "from sklearn.tree import DecisionTreeRegressor\n",
    "from sklearn.model_selection import cross_val_score"
   ]
  },
  {
   "cell_type": "markdown",
   "metadata": {},
   "source": [
    "<div style=\"direction:rtl; text-align:right\">\n",
    "أسهل وأسرع طريقة لمعرفة أداء النموذج هي باستخدام الأمر cross_val_score حيث يقوم هذا الأمر بتقسيم البيانات إلى بيانات تدريب وبيانات اختار باستخدام التحقق المتقاطع ومن ثم إجراء النمذجة بدون أي حاجة للتدخل. بعد ذلك، سنقوم بطباعة معدل الخطأ لنعرف بشكل عام عن متوسط أداء النموذج قبل تطبيقه على بيانات جديدة. سنتعرف بشكل مفصل على أساليب التحقق من النماذج لاحقاً:"
   ]
  },
  {
   "cell_type": "code",
   "execution_count": 32,
   "metadata": {
    "execution": {
     "iopub.execute_input": "2022-08-31T14:57:02.475009Z",
     "iopub.status.busy": "2022-08-31T14:57:02.474617Z",
     "iopub.status.idle": "2022-08-31T14:57:02.480641Z",
     "shell.execute_reply": "2022-08-31T14:57:02.479529Z",
     "shell.execute_reply.started": "2022-08-31T14:57:02.474978Z"
    }
   },
   "outputs": [],
   "source": [
    "features = ['holiday', 'workingday', 'temp', 'atemp', 'humidity', 'windspeed', 'season_1', 'season_2', 'season_3', 'season_4', 'weather_1', 'weather_2', 'weather_3', 'weather_4', 'hour', 'day', 'month']"
   ]
  },
  {
   "cell_type": "code",
   "execution_count": 33,
   "metadata": {
    "execution": {
     "iopub.execute_input": "2022-08-31T14:57:05.156500Z",
     "iopub.status.busy": "2022-08-31T14:57:05.156054Z",
     "iopub.status.idle": "2022-08-31T14:57:05.161608Z",
     "shell.execute_reply": "2022-08-31T14:57:05.160416Z",
     "shell.execute_reply.started": "2022-08-31T14:57:05.156466Z"
    }
   },
   "outputs": [],
   "source": [
    "target = ['count']"
   ]
  },
  {
   "cell_type": "code",
   "execution_count": 34,
   "metadata": {
    "execution": {
     "iopub.execute_input": "2022-08-31T14:57:23.722280Z",
     "iopub.status.busy": "2022-08-31T14:57:23.721575Z",
     "iopub.status.idle": "2022-08-31T14:57:24.065590Z",
     "shell.execute_reply": "2022-08-31T14:57:24.064425Z",
     "shell.execute_reply.started": "2022-08-31T14:57:23.722241Z"
    },
    "scrolled": true
   },
   "outputs": [],
   "source": [
    "scores = cross_val_score(X=data[features],\n",
    "                         y=data[target].values, \n",
    "                         estimator=DecisionTreeRegressor(),\n",
    "                         scoring='neg_mean_squared_error',\n",
    "                         cv=5)"
   ]
  },
  {
   "cell_type": "code",
   "execution_count": 35,
   "metadata": {
    "execution": {
     "iopub.execute_input": "2022-08-31T14:57:54.047477Z",
     "iopub.status.busy": "2022-08-31T14:57:54.046917Z",
     "iopub.status.idle": "2022-08-31T14:57:54.056027Z",
     "shell.execute_reply": "2022-08-31T14:57:54.054832Z",
     "shell.execute_reply.started": "2022-08-31T14:57:54.047430Z"
    },
    "scrolled": true
   },
   "outputs": [],
   "source": [
    "scores.mean()"
   ]
  },
  {
   "cell_type": "code",
   "execution_count": 36,
   "metadata": {
    "execution": {
     "iopub.execute_input": "2022-08-31T14:57:59.478839Z",
     "iopub.status.busy": "2022-08-31T14:57:59.478224Z",
     "iopub.status.idle": "2022-08-31T14:57:59.566341Z",
     "shell.execute_reply": "2022-08-31T14:57:59.565435Z",
     "shell.execute_reply.started": "2022-08-31T14:57:59.478802Z"
    }
   },
   "outputs": [],
   "source": [
    "model = DecisionTreeRegressor()\n",
    "model.fit(data[features], data[target])"
   ]
  },
  {
   "cell_type": "markdown",
   "metadata": {},
   "source": [
    "<div style=\"direction:rtl; text-align:right\">\n",
    "\n",
    "# تسليم المشروع"
   ]
  },
  {
   "cell_type": "markdown",
   "metadata": {},
   "source": [
    "<div style=\"direction:rtl; text-align:right\">\n",
    "تسليم هذا المشروع على مرحلتين: الأولى هي في تسليم الملف إلى موقع كاقل ومن ثم مشاركة صورة توضح التسليم، والمرحلة الثانية هي باستكمال الخانات التي تحتاج إلى إكمال ومن ثم تسليم المشروع إلى الموقع."
   ]
  },
  {
   "cell_type": "markdown",
   "metadata": {},
   "source": [
    "<div style=\"direction:rtl; text-align:right\">\n",
    "في كاقل، ستأتينا بيانات الاختبار، وهو جدول آخر فيه كل الأعمدة ما عدا عدد مرات الإيجار. ومهمتنا هي في استخدام بيانات التدريب لتوقع بيانات الاختبار، ومن ثم تسليم الحل إلى موقع كاقل لنرى كيف كان الأداء. لفعل ذلك، سنقوم بالتأكد من أننا نفذها جميع الخطوات السابقة في بيانات الاختبار كذلك."
   ]
  },
  {
   "cell_type": "code",
   "execution_count": 37,
   "metadata": {
    "execution": {
     "iopub.execute_input": "2022-08-31T14:58:45.541250Z",
     "iopub.status.busy": "2022-08-31T14:58:45.540688Z",
     "iopub.status.idle": "2022-08-31T14:58:45.591552Z",
     "shell.execute_reply": "2022-08-31T14:58:45.590104Z",
     "shell.execute_reply.started": "2022-08-31T14:58:45.541210Z"
    }
   },
   "outputs": [],
   "source": [
    "test = pd.read_csv('/kaggle/input/bike-sharing-demand/test.csv')\n",
    "test['datetime'] = pd.to_datetime(test['datetime'])\n",
    "season_dummies = pd.get_dummies(test['season'], prefix='season', drop_first=False)\n",
    "test = pd.concat([test, season_dummies], axis=1) # axis =1 means add new columns\n",
    "weather_dummies = pd.get_dummies(test['weather'], prefix='weather', drop_first=False)\n",
    "test = pd.concat([test, weather_dummies], axis=1) # axis =1 means add new columns\n",
    "for each in quant_features:\n",
    "    data.loc[:, each] = (data[each] - scaled_features[each][0]) / scaled_features[each][1]\n",
    "test['hour'] = test['datetime'].dt.hour\n",
    "test['day'] = test['datetime'].dt.day\n",
    "test['month'] = test['datetime'].dt.month"
   ]
  },
  {
   "cell_type": "markdown",
   "metadata": {},
   "source": [
    "<div style=\"direction:rtl; text-align:right\">\n",
    "وهنا سنقوم باستخدام النموذج السابق لتوقع مرات الإيجار في بيانات الاختبار:"
   ]
  },
  {
   "cell_type": "code",
   "execution_count": 38,
   "metadata": {
    "execution": {
     "iopub.execute_input": "2022-08-31T14:58:54.379757Z",
     "iopub.status.busy": "2022-08-31T14:58:54.378129Z",
     "iopub.status.idle": "2022-08-31T14:58:54.412439Z",
     "shell.execute_reply": "2022-08-31T14:58:54.410499Z",
     "shell.execute_reply.started": "2022-08-31T14:58:54.379679Z"
    }
   },
   "outputs": [],
   "source": [
    "predictions = model.predict(test[features])"
   ]
  },
  {
   "cell_type": "code",
   "execution_count": 39,
   "metadata": {
    "execution": {
     "iopub.execute_input": "2022-08-31T14:59:14.008342Z",
     "iopub.status.busy": "2022-08-31T14:59:14.007815Z",
     "iopub.status.idle": "2022-08-31T14:59:14.014649Z",
     "shell.execute_reply": "2022-08-31T14:59:14.013449Z",
     "shell.execute_reply.started": "2022-08-31T14:59:14.008303Z"
    }
   },
   "outputs": [],
   "source": [
    "test['count'] = predictions"
   ]
  },
  {
   "cell_type": "code",
   "execution_count": 40,
   "metadata": {
    "execution": {
     "iopub.execute_input": "2022-08-31T14:59:42.637716Z",
     "iopub.status.busy": "2022-08-31T14:59:42.637150Z",
     "iopub.status.idle": "2022-08-31T14:59:42.656791Z",
     "shell.execute_reply": "2022-08-31T14:59:42.655022Z",
     "shell.execute_reply.started": "2022-08-31T14:59:42.637670Z"
    }
   },
   "outputs": [],
   "source": [
    "test[['datetime', 'count']].head()"
   ]
  },
  {
   "cell_type": "markdown",
   "metadata": {},
   "source": [
    "<div style=\"direction:rtl; text-align:right\">\n",
    "الآن سنقوم بكتابة الملف حتى نقوم بتسليمها إلى كاقل. بعد كتابة الملف، اذهب إلى المسابقة في موقع كاقل، وسلم هذا الملف."
   ]
  },
  {
   "cell_type": "code",
   "execution_count": 42,
   "metadata": {
    "execution": {
     "iopub.execute_input": "2022-08-31T15:22:59.345928Z",
     "iopub.status.busy": "2022-08-31T15:22:59.345453Z",
     "iopub.status.idle": "2022-08-31T15:22:59.375876Z",
     "shell.execute_reply": "2022-08-31T15:22:59.374872Z",
     "shell.execute_reply.started": "2022-08-31T15:22:59.345889Z"
    }
   },
   "outputs": [],
   "source": [
    "test[['datetime', 'count']].to_csv('submission.csv', index=False)"
   ]
  },
  {
   "cell_type": "markdown",
   "metadata": {},
   "source": [
    "<div style=\"direction:rtl; text-align:right\">\n",
    "في نهاية هذا المشروع، نتمنى أن تكون لدينا فكرة أوضح عما نفعله في علم البيانات: قراءة البيانات ثم تنظيف البيانات، ثم إجراء الاكتشاف الأولي للبيانات وبعد ذلك نقوم بنمذجة البيانات وتقييم النموذج. سنتعلم لاحقاً المزيد عن كل من هذه الخطوات."
   ]
  },
  {
   "cell_type": "markdown",
   "metadata": {},
   "source": [
    "<div style=\"direction:rtl; text-align:right\">\n",
    "إذا لم تكن راضيا عن أداء هذا النموذج، ندعوك إلى إلقاء نظرة على موقع كاقل والتعرف على الطرق المختلفة لتنظيف البيانات ورسم البيانات:"
   ]
  },
  {
   "cell_type": "markdown",
   "metadata": {},
   "source": [
    "- https://www.kaggle.com/c/bike-sharing-demand/kernels"
   ]
  }
 ],
 "metadata": {
  "kernelspec": {
   "display_name": "Python 3 (ipykernel)",
   "language": "python",
   "name": "python3"
  },
  "language_info": {
   "codemirror_mode": {
    "name": "ipython",
    "version": 3
   },
   "file_extension": ".py",
   "mimetype": "text/x-python",
   "name": "python",
   "nbconvert_exporter": "python",
   "pygments_lexer": "ipython3",
   "version": "3.9.12"
  }
 },
 "nbformat": 4,
 "nbformat_minor": 4
}
